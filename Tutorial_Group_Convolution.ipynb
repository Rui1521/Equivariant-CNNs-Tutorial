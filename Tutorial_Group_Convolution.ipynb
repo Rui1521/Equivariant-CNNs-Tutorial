{
 "cells": [
  {
   "cell_type": "markdown",
   "metadata": {
    "id": "N2dSAwLACjSN"
   },
   "source": [
    "# Tutorial: (Relaxed) Group Convolution\n",
    "\n",
    "\n",
    "# [![Open In Colab](https://colab.research.google.com/assets/colab-badge.svg)](https://colab.research.google.com/github/iaifi/summer-school-2023/blob/main/Tutorial_Symmetry.ipynb)\n",
    "\n",
    "This google colab tutorial is supporting material for the lectures by Robin Walters on *Incorporating Symmetry into Deep Dynamics Models* at [IAIFI Summer School](https://iaifi.org/phd-summer-school.html). We will 1) build regular group  convolution neural net layers; 2) define approximate equivariance and implement relaxed group convolution for translation group and C4 rotation group; 3) introduce basic ideas of steerable convolutions and [e2cnn](https://github.com/QUVA-Lab/e2cnn). 4) introduce several methods that can improve models' long-term dynmaics prediction accuracy.\n",
    "\n",
    "This tutorial is based on the following materials:\n",
    "\n",
    "* [Dr. Denis Boyda's tutorial](https://www.dropbox.com/sh/450ao3m5v4qt6o3/AABe1B2jEcyM5ZyoY_pmOStfa?dl=0) from IAIFI Summer School 2022.\n",
    "\n",
    "* [UvA Deep Learning Tutorials](https://uvadlc-notebooks.readthedocs.io/en/latest/index.html).\n",
    "\n",
    "* Prof. Erik Bekkers's course [Group Equivariant Deep Learning](https://www.youtube.com/@erikbekkers6398/videos).\n",
    "\n",
    "* Cohen et al. [Group Equivariant Convolutional Networks](https://arxiv.org/pdf/1602.07576.pdf).\n",
    "\n",
    "* Cohen et al. [Steerable CNNs](https://arxiv.org/abs/1612.08498).\n",
    "\n",
    "* [E2CNN](https://github.com/QUVA-Lab/e2cnn) & [ESCNN](https://github.com/QUVA-Lab/escnn) & [E3NN](https://e3nn.org/)\n",
    "\n",
    "* Wang et al. [Discovering Symmetry Breaking in Physical Systems with Relaxed Group Convolution](https://arxiv.org/abs/2310.02299).\n",
    "\n",
    "* Wang and Walters et al. [Approximately Equivariant Networks for Imperfectly Symmetric Dynamics](https://proceedings.mlr.press/v162/wang22aa.html).\n"
   ]
  },
  {
   "cell_type": "markdown",
   "metadata": {
    "id": "7YNFbmARCvTf"
   },
   "source": [
    "# 1. Group Equivariant Convolutional Networks"
   ]
  },
  {
   "cell_type": "markdown",
   "metadata": {
    "id": "p2xNgzMjGpeP"
   },
   "source": [
    "## 1.1 Group, Equivariance and Group Equivariant Convolutional Networks"
   ]
  },
  {
   "cell_type": "markdown",
   "metadata": {
    "id": "DGxx9GLXY6_M"
   },
   "source": [
    "### 1.1.1 Definition of group\n",
    "\n",
    "A Group (or Abstract group) $G = (\\Omega, \\cdot)$ is a set with a binary operation, called group multiplication, that satisfies the following four axioms:\n",
    "\n",
    "1.   <ins>Closure</ins>: For any $g_1, g_2 \\in G$ the product $g_1 \\cdot g_2 = g_3 \\in G$.\n",
    "2.   <ins>Associativity</ins>: For any $g_1, g_2, g_3 \\in G$: ($g_1 \\cdot g_2) \\cdot g_3 = g_1 \\cdot (g_2 \\cdot g_3)$.\n",
    "3.   <ins>Identity</ins>: There exists an identity element $e$ s.t. $e \\cdot g = g \\cdot e = g$ for each $g \\in G$.\n",
    "4.   <ins>Inverse</ins>: For any $g \\in G$ there exists an inverse element $g^{-1} \\in G$, s.t. $g \\cdot g^{-1} = e$.\n",
    "\n",
    "E.g. Translation Group $(R^2, +)$ consists of all possible translations in $R^2$ and is equipped with group product and group inverse,\n",
    "\n",
    "$$g \\cdot g' = (x + x') ; \\;\\;\\ g^{-1} = -x $$\n",
    "\n",
    "with $g = (x), g' = (x')$ and $x, x' \\in \\mathbb{R}^2$.\n",
    "\n",
    "E.g. Roto-translation group $SE(2) = \\mathbb{R}^2 \\rtimes SO(2)$ consists of the coupled space of translation vectors and rotations and is equipped with group product and group inverse,\n",
    "$$g \\cdot g' = (x, R_{\\theta}) \\cdot (x', R_{\\theta'}) = (R_{\\theta}x' + x, R_{\\theta+\\theta'}) ; \\;\\;\\ g^{-1} = (-R_{\\theta}^{-1}x, -R_{\\theta}^{-1}) $$\n",
    "\n",
    "with $g = (x, R_{\\theta}), g' = (x', R_{\\theta'})$."
   ]
  },
  {
   "cell_type": "markdown",
   "metadata": {
    "id": "EdQvrsc4aPzR"
   },
   "source": [
    "### 1.1.2 Equivariance and Invariance\n",
    "\n",
    "Formally, a function $f \\colon X \\to Y$ may be described as respecting the symmetry coming from a group $G$ using the notion of equivariance.  Assume a group representation $\\rho_{\\text{in}}$ of $G$ acts on $X$ and $\\rho_{\\text{out}}$ acts on $Y$. We say a function $f$ is <ins>$G$-equivariant</ins> if\n",
    "\n",
    "$$ f( \\rho_{\\text{in}}(g)(x)) = \\rho_{\\text{out}}(g) f(x) $$\n",
    "for all $x \\in X$ and $g \\in G$. The function $f$ is <ins>$G$-invariant</ins> if $f( \\rho_{\\text{out}}(g)(x)) = f(x)$ for all $x \\in X$ and $g \\in G$.  This is a special case of equivariance for the case $\\rho_{\\mathrm{out}}(g) = 1$.\n"
   ]
  },
  {
   "cell_type": "markdown",
   "metadata": {
    "id": "5d7OEDyP1e6s"
   },
   "source": [
    "### 1.1.3 Recap on CNN\n",
    "\n",
    "<ins>CNN is nothing else but group convolution with the translation group. </ins>\n",
    "\n",
    "At each layer of a regular convnet convolves or correlates stack of feature maps $f : \\mathbb{Z}^2 \\rightarrow \\mathbb{R}^K$ with a filter (or a set of filters) $\\psi : \\mathbb{Z}^2 \\rightarrow \\mathbb{R}^K$.\n",
    "\n",
    "\n",
    "$$[f * \\psi] (\\mathbf{x}) = \\sum_{\\mathbf{y} \\in \\mathbb{Z}^2}f(\\mathbf{y})\\psi(\\mathbf{y}-\\mathbf{x}) = \\sum_{\\mathbf{y} \\in \\mathbb{Z}^2}f(\\mathbf{y})T_{\\mathbf{x}}\\psi(\\mathbf{y}) $$\n",
    "\n",
    "A left regular representation is a representation that transforms the function $f$ by transforming their domains via inverse group actions."
   ]
  },
  {
   "cell_type": "markdown",
   "metadata": {
    "id": "cFQhHnEo--_2"
   },
   "source": [
    "### 1.1.4 Group Equivariant Convolution"
   ]
  },
  {
   "cell_type": "markdown",
   "metadata": {
    "id": "9HVYP4R7_pJ7"
   },
   "source": [
    "<ins>G-CNN is a generalization of CNN for the case of an arbitrary group $G$.</ins>  \n",
    "\n",
    "By replacing the shift with a more general transformation from some group $G$, We can make models become equivariant to other groups.\n",
    "\n",
    "* The first layer of a G-CNN (Lifting Convolution): $$[f * \\psi] (g) =  \\sum_{\\mathbf{y} \\in \\mathbb{Z}^2}f(\\mathbf{y})\\psi(g^{-1}\\mathbf{y})$$\n",
    "\n",
    "* For all layers after the first, both the input and the filters are functions on $G$:\n",
    "$$[f * \\psi] (g) =  \\sum_{h \\in G}f(h)\\psi(g^{-1}h)$$"
   ]
  },
  {
   "cell_type": "markdown",
   "metadata": {
    "id": "1uNB5aq6EVzH"
   },
   "source": [
    "<ins>E.g.</ins> $G=\\mathbb{Z}^2 \\rtimes C_4$\n",
    "\n",
    "* <ins>Lifting Convolution</ins> maps signals $f_{in}: \\mathbb{Z}^2 → R$ to signals on arbitrary group G: $f_{out}: G→R$.  Group elements $g \\in G = \\mathbb{Z}^2 \\rtimes C_4$ can be parametrized using $\\mathbf{x} \\in R^2$ and $r \\in C_4$ such that $g=(\\mathbf{x}, r)$. For such groups lifting convolution has form\n",
    "$$\n",
    "\\begin{aligned}\n",
    "f_{out}(\\mathbf{x}, r) = (f_{in} * \\psi) (\\mathbf{x})\n",
    "    &=\n",
    "\\sum_{\\mathbf{y} \\in \\mathbb{Z}^2} f_{in}(\\mathbf{y}) L_{r}  L_{\\mathbf{x}} \\psi(\\mathbf{y}),\\\\\n",
    "    &=\n",
    "    \\sum_{\\mathbf{y} \\in \\mathbb{Z}^2}  f_{in}(\\mathbf{y}) L_{r} \\psi(\\mathbf{y} -\\mathbf{x}),\\\\\n",
    "    &=\n",
    "    \\sum_{\\mathbf{y} \\in \\mathbb{Z}^2}  f_{in}(\\mathbf{y})\\psi_{r}(\\mathbf{y} -\\mathbf{x}),\\\n",
    "\\end{aligned}\n",
    "$$\n",
    "<ins>So lifting convolution is the same as conventional convolutions with a stack of filter bank </ins>$\\{k_{r}(\\mathbf{x})\\}_{r \\in C_4}$."
   ]
  },
  {
   "cell_type": "markdown",
   "metadata": {
    "id": "aEAK-TdRWn65"
   },
   "source": [
    "* <ins>Group Convolution:</ins> Note that the input feature map, $f_{in}$, now has one additional group dimension defined over $C_4$, besides the usual spatial dimensions defined over $\\mathbb{R}^2$,\n",
    "\n",
    "$$\n",
    "\\begin{aligned}\n",
    "f_{out}(\\mathbf{x}, r) = (f_{in} * \\psi) (\\mathbf{x}, r)\n",
    "    &=\n",
    "\\sum_{\\mathbf{y} \\in \\mathbb{Z}^2} \\sum_{r' \\in C^4} f_{in}(\\mathbf{y} , r) L_{r} L_{\\mathbf{x}} \\psi(\\mathbf{y},r'),\\\\\n",
    "    &=\n",
    "    \\sum_{\\mathbf{y} \\in \\mathbb{Z}^2} \\sum_{r' \\in C^4} f_{in}(\\mathbf{y} , r')  L_{r} \\psi(\\mathbf{y-x},r'),\\\\\n",
    "    &=\n",
    "    \\sum_{\\mathbf{y} \\in \\mathbb{Z}^2} \\sum_{r' \\in C^4}  f_{in}(\\mathbf{y}, r') \\psi_r(\\mathbf{y-x},r')\\\\\n",
    "    &=\n",
    "    \\sum_{\\mathbf{y} \\in \\mathbb{Z}^2} \\sum_{r' \\in C^4}  f_{in}(\\mathbf{y}, r') \\psi(r^{-1}(\\mathbf{y-x}),r^{-1}r')\\\\\n",
    "\\end{aligned}\n",
    "$$"
   ]
  },
  {
   "cell_type": "code",
   "execution_count": 53,
   "metadata": {
    "id": "WFUJF8OYeJS1",
    "tags": []
   },
   "outputs": [],
   "source": [
    "# %%capture\n",
    "# !rm symm4ml_obfuscated.zip\n",
    "# !wget -O symm4ml_obfuscated.zip https://symm4ml.mit.edu/_static/symm4ml_s24/symm4ml/symm4ml_obfuscated.zip\n",
    "# !unzip -o symm4ml_obfuscated.zip\n",
    "# import sys\n",
    "# Update to proper folder if doing this locally\n",
    "# sys.path.append('/pscratch/sd/r/rwang2/SymmetryCourse/symm4ml_obfuscated/symm4ml')"
   ]
  },
  {
   "cell_type": "code",
   "execution_count": 1,
   "metadata": {
    "id": "ux6sZ6fIeKmm",
    "tags": []
   },
   "outputs": [],
   "source": [
    "import numpy as np\n",
    "from PIL import Image\n",
    "import matplotlib.pyplot as plt\n",
    "\n",
    "import torch\n",
    "import torchvision\n",
    "from torchvision.datasets import MNIST\n",
    "from torchvision import transforms\n",
    "\n",
    "from torch import nn\n",
    "from torch import optim\n",
    "import torch.nn.functional as F\n",
    "\n",
    "# import symm4ml\n",
    "# import symm4ml.groups as groups\n",
    "# import symm4ml.vis as vis\n",
    "# import symm4ml.rep as rep"
   ]
  },
  {
   "cell_type": "code",
   "execution_count": 2,
   "metadata": {
    "tags": []
   },
   "outputs": [],
   "source": [
    "import group_conv\n",
    "device = torch.device(\"cuda\" if torch.cuda.is_available() else \"cpu\")"
   ]
  },
  {
   "cell_type": "markdown",
   "metadata": {
    "id": "V31DXglsOlXQ"
   },
   "source": [
    "## 1.2 C4 Cyclic Group"
   ]
  },
  {
   "cell_type": "markdown",
   "metadata": {
    "id": "oRpZpbuvImdI"
   },
   "source": [
    "**Let's first implement a function that can rotate images**"
   ]
  },
  {
   "cell_type": "code",
   "execution_count": 3,
   "metadata": {
    "id": "fMrerIAaMr5N",
    "tags": []
   },
   "outputs": [],
   "source": [
    "import numpy as np\n",
    "from PIL import Image\n",
    "import matplotlib.pyplot as plt\n",
    "\n",
    "import math\n",
    "import random\n",
    "import torch\n",
    "import torchvision\n",
    "from torch import nn\n",
    "from torch import optim\n",
    "import torch.nn.functional as F"
   ]
  },
  {
   "cell_type": "code",
   "execution_count": 4,
   "metadata": {
    "id": "gogWJEQMNHQI",
    "tags": []
   },
   "outputs": [],
   "source": [
    "def rot_img(x, theta):\n",
    "    \"\"\" Rotate 2D images\n",
    "    Args:\n",
    "        x : input images with shape [N, C, H, W]\n",
    "        theta: angle\n",
    "    Returns:\n",
    "        rotated images\n",
    "    \"\"\"\n",
    "    # Rotation Matrix (2 x 3)\n",
    "    rot_mat = torch.FloatTensor([[np.cos(theta), -np.sin(theta), 0],\n",
    "                                 [np.sin(theta), np.cos(theta), 0]])\n",
    "\n",
    "    # The affine transformation matrices should have the shape of N x 2 x 3\n",
    "    rot_mat = rot_mat.repeat(x.shape[0],1,1)\n",
    "\n",
    "    # Obtain transformed grid\n",
    "    # grid is the coordinates of pixels for rotated image\n",
    "    # F.affine_grid assumes the origin is in the middle\n",
    "    # and it rotates the positions of the coordinates\n",
    "    # r(f(x)) = f(r^-1 x)\n",
    "    grid = F.affine_grid(rot_mat.to(x.device), x.size(), align_corners=False).float()\n",
    "    x = F.grid_sample(x, grid)\n",
    "    return x.float()"
   ]
  },
  {
   "cell_type": "code",
   "execution_count": 5,
   "metadata": {
    "colab": {
     "base_uri": "https://localhost:8080/",
     "height": 362
    },
    "id": "aOHncymzNPo9",
    "outputId": "3b792031-825d-4461-a19f-7ebe649b1249",
    "tags": []
   },
   "outputs": [
    {
     "name": "stderr",
     "output_type": "stream",
     "text": [
      "/global/homes/r/rwang2/.conda/envs/e3nn/lib/python3.9/site-packages/torch/nn/functional.py:4236: UserWarning: Default grid_sample and affine_grid behavior has changed to align_corners=False since 1.3.0. Please specify align_corners=True if the old behavior is desired. See the documentation of grid_sample for details.\n",
      "  warnings.warn(\n"
     ]
    },
    {
     "data": {
      "image/png": "[encoded data removed]",
      "text/plain": [
       "<Figure size 2000x500 with 4 Axes>"
      ]
     },
     "metadata": {},
     "output_type": "display_data"
    }
   ],
   "source": [
    "# C4 rotations: e, r, r^2, r^3\n",
    "x = torch.rand(1,1,3,3)\n",
    "fig=plt.figure(figsize=(20, 5))\n",
    "for i in range(1, 5):\n",
    "    fig.add_subplot(1, 4, i)\n",
    "    plt.imshow(rot_img(x, np.pi/2*i)[0,0])\n",
    "plt.show()"
   ]
  },
  {
   "cell_type": "markdown",
   "metadata": {
    "id": "vDNYJxKIPn9b"
   },
   "source": [
    "## 1.3 Implementing the Lift Convolution"
   ]
  },
  {
   "cell_type": "markdown",
   "metadata": {
    "id": "sWpduUdeCEYR"
   },
   "source": [
    "$$f_{out}(\\mathbf{x}, r) = (f_{in} * \\psi) (\\mathbf{x})\n",
    "= \\sum_{\\mathbf{y} \\in \\mathbb{Z}^2}  f_{in}(\\mathbf{y})\\psi_{r}(\\mathbf{y} -\\mathbf{x})$$"
   ]
  },
  {
   "cell_type": "markdown",
   "metadata": {
    "id": "d2IlLWUZMsyd"
   },
   "source": [
    "**In lift convolution, the input convolves with a stack of rotated filters.**\n",
    "\n",
    "*The reason why we call it lifting is that we add a new axis $r$ in the output feature maps.*"
   ]
  },
  {
   "cell_type": "markdown",
   "metadata": {
    "id": "Icc31YdfEcXn"
   },
   "source": [
    "![picture](https://drive.google.com/uc?export=view&id=17RprAkuSe43q_gjsi1al2RX18mZ0o00q)"
   ]
  },
  {
   "cell_type": "code",
   "execution_count": 6,
   "metadata": {
    "id": "j9UENyEg0ucj",
    "tags": []
   },
   "outputs": [],
   "source": [
    "class LiftingConvolution(nn.Module):\n",
    "    \"\"\"Lifting Convolution Layer for finite rotation group\n",
    "\n",
    "    Attributes:\n",
    "        in_channels: number of input channels\n",
    "        out_channels: number of output channels\n",
    "        kernel_size: kernel size\n",
    "        group_order: the order of rotation groups\n",
    "        activation: whether to use relu.\n",
    "    \"\"\"\n",
    "    def __init__(self,\n",
    "                 in_channels,\n",
    "                 out_channels,\n",
    "                 kernel_size,\n",
    "                 group_order,\n",
    "                 activation = True\n",
    "                 ):\n",
    "        super(LiftingConvolution, self).__init__()\n",
    "\n",
    "        self.in_channels = in_channels\n",
    "        self.out_channels = out_channels\n",
    "        self.kernel_size = kernel_size\n",
    "        self.group_order = group_order\n",
    "        self.activation = activation\n",
    "\n",
    "        # Initialize an unconstrained kernel.\n",
    "        self.kernel = torch.nn.Parameter(torch.zeros(self.out_channels,\n",
    "                                                     self.in_channels,\n",
    "                                                     self.kernel_size,\n",
    "                                                     self.kernel_size))\n",
    "\n",
    "        # Initialize weights\n",
    "        torch.nn.init.kaiming_uniform_(self.kernel.data, a=math.sqrt(5))\n",
    "\n",
    "    def generate_filter_bank(self):\n",
    "        # Obtain a stack of rotated filters\n",
    "        # Rotate kernels by 0, 90, 180, and 270 degrees\n",
    "        # ==============================\n",
    "        filter_bank = torch.stack([rot_img(self.kernel, -np.pi*2/self.group_order*i)\n",
    "                                   for i in range(self.group_order)])\n",
    "        # ==============================\n",
    "\n",
    "        # [#out, group_order, #in, k, k]\n",
    "        filter_bank = filter_bank.transpose(0,1)\n",
    "        return filter_bank\n",
    "\n",
    "\n",
    "    def forward(self, x):\n",
    "        # input shape: [bz, #in, h, w]\n",
    "        # output shape: [bz, #out, group order, h, w]\n",
    "\n",
    "        # generate filter bank given input group order\n",
    "        filter_bank = self.generate_filter_bank()\n",
    "\n",
    "        # concatenate the first two dims before convolution.\n",
    "        # ==============================\n",
    "        x = F.conv2d(\n",
    "            input=x,\n",
    "            weight=filter_bank.reshape(\n",
    "                self.out_channels * self.group_order,\n",
    "                self.in_channels,\n",
    "                self.kernel_size,\n",
    "                self.kernel_size\n",
    "            ),\n",
    "            padding = (self.kernel_size-1)//2\n",
    "        )\n",
    "        # ==============================\n",
    "\n",
    "        # reshape output signal to shape [bz, #out, group order, h, w].\n",
    "        # ==============================\n",
    "        x = x.view(\n",
    "            x.shape[0],\n",
    "            self.out_channels,\n",
    "            self.group_order,\n",
    "            x.shape[-1],\n",
    "            x.shape[-2]\n",
    "        )\n",
    "        # ==============================\n",
    "        if self.activation:\n",
    "            return F.leaky_relu(x)\n",
    "        return x"
   ]
  },
  {
   "cell_type": "markdown",
   "metadata": {
    "id": "AQKnUvTTQhZx"
   },
   "source": [
    "## 1.4 Implementing Group Convolution Kernel"
   ]
  },
  {
   "cell_type": "markdown",
   "metadata": {
    "id": "B__anHOmzvHD"
   },
   "source": [
    "**After the first layer, both the filter and input are now functions on $G=\\mathbb{Z}^2 \\rtimes C_4$**\n",
    "\n",
    "*Be careful about this, rotation not only acts on the spatial dimension but also the new $r$ axis. A rotation means a planar rotation and periodic shft.*\n",
    "\n",
    "*A single channel from regular CNNs is expanded to four channels since we apply kernel with rotations four times.*"
   ]
  },
  {
   "cell_type": "markdown",
   "metadata": {
    "id": "Lj36BPj1CLaO"
   },
   "source": [
    "$$f_{out}(\\mathbf{x}, r) = (f_{in} * \\psi) (\\mathbf{x}, r)\n",
    "    = \\sum_{\\mathbf{y} \\in \\mathbb{Z}^2} \\sum_{r' \\in C^4}  f_{in}(\\mathbf{y}, r') \\psi(r^{-1}(\\mathbf{y-x}),r^{-1}r')\n",
    "$$\n"
   ]
  },
  {
   "cell_type": "markdown",
   "metadata": {
    "id": "PZ_bF30ScLwX"
   },
   "source": [
    "![picture](https://drive.google.com/uc?export=view&id=1ADYVLN8veOHRgK_l50p7Vw3-Nvn2E0P9)"
   ]
  },
  {
   "cell_type": "code",
   "execution_count": 7,
   "metadata": {
    "id": "dzTItCkechNT",
    "tags": []
   },
   "outputs": [],
   "source": [
    "class GroupConvolution(nn.Module):\n",
    "    \"\"\"Group Convolution Layer for finite rotation group\n",
    "\n",
    "    Attributes:\n",
    "        in_channels: number of input channels\n",
    "        out_channels: number of output channels\n",
    "        kernel_size: kernel size\n",
    "        group_order: the order of rotation groups\n",
    "        activation: whether to use relu.\n",
    "    \"\"\"\n",
    "    def __init__(self,\n",
    "                 in_channels,\n",
    "                 out_channels,\n",
    "                 kernel_size,\n",
    "                 group_order,\n",
    "                 activation = True,\n",
    "                 ):\n",
    "        super(GroupConvolution, self).__init__()\n",
    "        self.in_channels = in_channels\n",
    "        self.out_channels = out_channels\n",
    "        self.kernel_size = kernel_size\n",
    "        self.group_order = group_order\n",
    "        self.activation = activation\n",
    "\n",
    "        # Initialize an unconstrained kernel.\n",
    "        # the weights have an additional group order dimension.\n",
    "        self.kernel = torch.nn.Parameter(torch.zeros(self.out_channels,\n",
    "                                                     self.in_channels,\n",
    "                                                     self.group_order, # this is different from the lifting convolution\n",
    "                                                     self.kernel_size,\n",
    "                                                     self.kernel_size))\n",
    "\n",
    "        torch.nn.init.kaiming_uniform_(self.kernel.data, a=math.sqrt(5))\n",
    "\n",
    "\n",
    "    def generate_filter_bank(self):\n",
    "        # Obtain a stack of rotated and cyclic shifted filters\n",
    "        filter_bank = []\n",
    "        filter = self.kernel.reshape(self.out_channels*self.in_channels,\n",
    "                                     self.group_order,\n",
    "                                     self.kernel_size,\n",
    "                                     self.kernel_size)\n",
    "\n",
    "        for i in range(self.group_order):\n",
    "            # planar rotation\n",
    "            rotated_filter = rot_img(filter, -np.pi*2/self.group_order*i)\n",
    "\n",
    "            # cyclic shift\n",
    "            shifted_indices = torch.roll(torch.arange(0, self.group_order, 1), shifts = i)\n",
    "            shifted_rotated_filter = rotated_filter[:,shifted_indices]\n",
    "\n",
    "\n",
    "            filter_bank.append(shifted_rotated_filter.reshape(self.out_channels,\n",
    "                                                              self.in_channels,\n",
    "                                                              self.group_order,\n",
    "                                                              self.kernel_size,\n",
    "                                                              self.kernel_size))\n",
    "        # reshape output signal to shape [#out, g_order, #in, g_order, k, k].\n",
    "        filter_bank = torch.stack(filter_bank).transpose(0,1)\n",
    "        return filter_bank\n",
    "\n",
    "    def forward(self, x):\n",
    "        # input shape: [bz, in, group order, x, y]\n",
    "        # output shape: [bz, out, group order, x, y]\n",
    "\n",
    "        # Generate filter bank with shape [#out, g_order, #in, g_order, h, w]\n",
    "        filter_bank = self.generate_filter_bank()\n",
    "\n",
    "        # Reshape filter_bank to use F.conv2d\n",
    "        # [#out, g_order, #in, g_order, h, w] -> [#out*g_order, #in*g_order, h, w]\n",
    "        # ==============================\n",
    "        x = torch.nn.functional.conv2d(\n",
    "            input=x.reshape(\n",
    "                x.shape[0],\n",
    "                x.shape[1] * x.shape[2],\n",
    "                x.shape[3],\n",
    "                x.shape[4]\n",
    "                ),\n",
    "            weight=filter_bank.reshape(\n",
    "                self.out_channels * self.group_order,\n",
    "                self.in_channels * self.group_order,\n",
    "                self.kernel_size,\n",
    "                self.kernel_size\n",
    "            ),\n",
    "            padding = (self.kernel_size-1)//2\n",
    "        )\n",
    "\n",
    "        # Reshape signal back [bz, #out * g_order, h, w] -> [bz, out, g_order, h, w]\n",
    "        x = x.view(x.shape[0], self.out_channels, self.group_order, x.shape[-2], x.shape[-1])\n",
    "        # ========================\n",
    "\n",
    "        if self.activation:\n",
    "            return F.leaky_relu(x)\n",
    "        return x"
   ]
  },
  {
   "cell_type": "markdown",
   "metadata": {
    "id": "hLppDfHeQx8_"
   },
   "source": [
    "## 1.5 Test Equivariance"
   ]
  },
  {
   "cell_type": "markdown",
   "metadata": {
    "id": "GZA_6iEseHZA"
   },
   "source": [
    "$$ \\|f\\|_{EE} = sup_{x,g}\\|f(\\rho_X(g)x) - \\rho_Y(g)f(x)\\| = 0$$"
   ]
  },
  {
   "cell_type": "markdown",
   "metadata": {
    "id": "UR6gszpjKT1Z"
   },
   "source": [
    "**Let's build a group equivariant CNNs.**"
   ]
  },
  {
   "cell_type": "code",
   "execution_count": 8,
   "metadata": {
    "id": "skRK8RplcuTm",
    "tags": []
   },
   "outputs": [],
   "source": [
    "class GroupEquivariantCNN(torch.nn.Module):\n",
    "    def __init__(self,\n",
    "                 in_channels,\n",
    "                 out_channels,\n",
    "                 kernel_size,\n",
    "                 hidden_dim,\n",
    "                 group_order,\n",
    "                 num_gconvs, # number of group convolution layers.\n",
    "                 classifer = False,\n",
    "                 sigmoid = False\n",
    "                 ):\n",
    "        super().__init__()\n",
    "\n",
    "        self.gconvs = []\n",
    "        # First Layer\n",
    "        self.gconvs.append(LiftingConvolution(in_channels = in_channels,\n",
    "                                               out_channels = hidden_dim,\n",
    "                                               kernel_size = kernel_size,\n",
    "                                               group_order = group_order,\n",
    "                                               activation = True))\n",
    "        # Middle Layers\n",
    "        \n",
    "        for i in range(num_gconvs-2):\n",
    "            self.gconvs.append(GroupConvolution(in_channels = hidden_dim,\n",
    "                                                out_channels = hidden_dim,\n",
    "                                                kernel_size = kernel_size,\n",
    "                                                group_order = group_order,\n",
    "                                                activation = True))\n",
    "    \n",
    "        # Final Layer # To generate equivariant outputs\n",
    "        self.gconvs.append(GroupConvolution(in_channels = hidden_dim,\n",
    "                                            out_channels = out_channels,\n",
    "                                            kernel_size = kernel_size,\n",
    "                                            group_order = group_order,\n",
    "                                            activation = False))\n",
    "        self.gconvs = nn.Sequential(*self.gconvs)\n",
    "        self.classifer = classifer\n",
    "        self.sigmoid = sigmoid\n",
    "        \n",
    "    def forward(self, x):\n",
    "        # x [bz, c_in, h, w]\n",
    "        out = self.gconvs(x)\n",
    "        \n",
    "        # functions on (g,x,y) -> functions on (x,y)\n",
    "        # [bz, c_out, |G|, H, W] -> [bz, c_out, H, W]\n",
    "        out = torch.mean(out, dim = 2)\n",
    "        \n",
    "        # If we want to have a invariant classifer, we can average over the spatial dimensions.\n",
    "        if self.classifer:\n",
    "            out = torch.mean(out, dim = (2,3))\n",
    "        if self.sigmoid:\n",
    "            out = out.sigmoid()\n",
    "        return out"
   ]
  },
  {
   "cell_type": "markdown",
   "metadata": {},
   "source": [
    "### Test whether the model is equivariant under C4 transformations."
   ]
  },
  {
   "cell_type": "code",
   "execution_count": 9,
   "metadata": {
    "tags": []
   },
   "outputs": [],
   "source": [
    "def test_equivariance(model, group_order, plot = False):\n",
    "    # Download mnist dataset.\n",
    "    train_ds = torchvision.datasets.MNIST(root=\"data\", train=True, download=False)\n",
    "    image = torch.from_numpy(train_ds.data[0].numpy()).unsqueeze(0).unsqueeze(0).float()\n",
    "    image = (image - image.min())/(image.max() - image.min())\n",
    "\n",
    "\n",
    "    ## |rf(x) - f(rx)|\n",
    "    # test whether the model is equivariant under C4 transformations.\n",
    "    for i in range(group_order):\n",
    "        theta = np.pi*2/group_order*i\n",
    "        x = image\n",
    "        f_x = model(x)\n",
    "        r_f_x = rot_img(f_x, theta).data.numpy()\n",
    "        r_x = rot_img(x, theta)\n",
    "        f_r_x = model(r_x).data.numpy()\n",
    "        equiv_error = np.mean(np.abs(r_f_x - f_r_x))\n",
    "        print(\"Equivariance Error with Rotation {:0.0f} Degrees: {:0.5f}\".format(theta/np.pi*2/group_order*360, equiv_error))\n",
    "        \n",
    "    if plot:\n",
    "        titles = [\"$x$\", \"$f(x)$\", \"$gx$\", \"$f(gx)$\", \"$g(f(x))$\"]\n",
    "        vis_imgs = [x[0,0], f_x[0,0].data.numpy(), r_x[0,0].data.numpy(), f_r_x[0,0], r_f_x[0,0]]\n",
    "        fig=plt.figure(figsize=(10, 5))\n",
    "        idx = 0\n",
    "        for i in range(6):\n",
    "            if i == 1:\n",
    "                continue\n",
    "            fig.add_subplot(2, 3, i+1)\n",
    "            plt.imshow(vis_imgs[idx])\n",
    "            plt.title(titles[idx], fontsize = 20)\n",
    "            plt.axis('off')\n",
    "            idx += 1\n",
    "        plt.show()"
   ]
  },
  {
   "cell_type": "code",
   "execution_count": 10,
   "metadata": {
    "id": "Fp6RplwdcwNS",
    "tags": []
   },
   "outputs": [
    {
     "name": "stdout",
     "output_type": "stream",
     "text": [
      "Equivariance Error with Rotation 0 Degrees: 0.00000\n",
      "Equivariance Error with Rotation 90 Degrees: 0.00000\n",
      "Equivariance Error with Rotation 180 Degrees: 0.00000\n",
      "Equivariance Error with Rotation 270 Degrees: 0.00000\n"
     ]
    },
    {
     "data": {
      "image/png": "[encoded data removed]",
      "text/plain": [
       "<Figure size 1000x500 with 5 Axes>"
      ]
     },
     "metadata": {},
     "output_type": "display_data"
    }
   ],
   "source": [
    "GCNN = GroupEquivariantCNN(in_channels = 1,\n",
    "                           out_channels = 1,\n",
    "                           kernel_size = 3,\n",
    "                           hidden_dim = 4,\n",
    "                           group_order = 4,\n",
    "                           num_gconvs = 3)\n",
    "test_equivariance(GCNN, 4, True)"
   ]
  },
  {
   "cell_type": "markdown",
   "metadata": {
    "id": "nTcOF87al9i8"
   },
   "source": [
    "## 1.6 Experiments on MNIST data"
   ]
  },
  {
   "cell_type": "code",
   "execution_count": 11,
   "metadata": {
    "tags": []
   },
   "outputs": [],
   "source": [
    "torch.manual_seed(0)\n",
    "random.seed(0)\n",
    "np.random.seed(0)"
   ]
  },
  {
   "cell_type": "code",
   "execution_count": 12,
   "metadata": {
    "colab": {
     "base_uri": "https://localhost:8080/",
     "height": 211
    },
    "id": "PHRCjKgdl89g",
    "outputId": "d32ffd09-a112-424a-b010-b09449629480",
    "tags": []
   },
   "outputs": [],
   "source": [
    "# We normalize the training data.\n",
    "train_transform = torchvision.transforms.Compose([torchvision.transforms.ToTensor(),\n",
    "                                                  torchvision.transforms.Normalize((0.1307,), (0.3081,))\n",
    "                                                  ])\n",
    "\n",
    "# To demonstrate the generalization capabilities our rotation equivariant layers bring, we apply a random\n",
    "# rotation between 0 and 360 deg to the test set.\n",
    "test_transform = torchvision.transforms.Compose([torchvision.transforms.ToTensor(),\n",
    "                                                 torchvision.transforms.RandomRotation(\n",
    "                                                     [0, 360],\n",
    "                                                     torchvision.transforms.InterpolationMode.BILINEAR,\n",
    "                                                     fill=0),\n",
    "                                                 torchvision.transforms.Normalize((0.1307,), (0.3081,))\n",
    "                                                 ])\n",
    "\n",
    "# We demonstrate our models on the MNIST dataset.\n",
    "train_ds = torchvision.datasets.MNIST(root=\"data/MNIST\", train=True, transform=train_transform, download=False)\n",
    "test_ds = torchvision.datasets.MNIST(root=\"data/MNIST\", train=False, transform=test_transform)\n",
    "train_loader = torch.utils.data.DataLoader(torch.utils.data.Subset(train_ds, list(range(50000))), batch_size=64, shuffle=True)\n",
    "valid_loader = torch.utils.data.DataLoader(torch.utils.data.Subset(train_ds, list(range(50000, 60000))), batch_size=64, shuffle=False)\n",
    "test_loader = torch.utils.data.DataLoader(test_ds, batch_size=64, shuffle=False)"
   ]
  },
  {
   "cell_type": "code",
   "execution_count": 13,
   "metadata": {
    "tags": []
   },
   "outputs": [],
   "source": [
    "def train_classifer(model, train_loader, valid_loader, test_loader, learning_rate = 0.001, num_epoch = 100):\n",
    "    print(\"number of paramters:\", sum(p.numel() for p in model.parameters() if p.requires_grad))\n",
    "    for epoch in range(num_epoch):\n",
    "        optimizer = torch.optim.Adam(model.parameters(), learning_rate)\n",
    "        scheduler = torch.optim.lr_scheduler.StepLR(optimizer, step_size=1, gamma=0.95)\n",
    "        loss_fun = nn.CrossEntropyLoss()\n",
    "\n",
    "        train_acc = []\n",
    "        for x, y in train_loader:\n",
    "            x = x.to(device)\n",
    "            y = y.to(device)\n",
    "            pred = model(x)\n",
    "            loss = loss_fun(pred, y)  \n",
    "            acc = (y == pred.argmax(dim=-1)).float().mean().cpu().data.numpy()\n",
    "            train_acc.append(acc)\n",
    "            optimizer.zero_grad()\n",
    "            loss.backward()\n",
    "            optimizer.step()\n",
    "\n",
    "        valid_acc = []\n",
    "        for x, y in valid_loader:\n",
    "            x = x.to(device)\n",
    "            y = y.to(device)\n",
    "            pred = model(x)\n",
    "            acc = (y == pred.argmax(dim=-1)).float().mean().cpu().data.numpy()\n",
    "            valid_acc.append(acc)\n",
    "            \n",
    "        test_acc = []\n",
    "        for x, y in test_loader:\n",
    "            x = x.to(device)\n",
    "            y = y.to(device)\n",
    "            pred = model(x)\n",
    "            acc = (y == pred.argmax(dim=-1)).float().mean().cpu().data.numpy()\n",
    "            test_acc.append(acc)\n",
    "\n",
    "        print(\"Epoch {} | Train Accuracy: {:0.5f} | Valid Accuracy: {:0.5f} | Test Accuracy: {:0.5f}\".format(epoch+1, np.mean(train_acc), np.mean(valid_acc), np.mean(test_acc)))\n",
    "            "
   ]
  },
  {
   "cell_type": "markdown",
   "metadata": {},
   "source": [
    "### Let's train the conventional CNN first."
   ]
  },
  {
   "cell_type": "code",
   "execution_count": 15,
   "metadata": {
    "tags": []
   },
   "outputs": [
    {
     "name": "stdout",
     "output_type": "stream",
     "text": [
      "number of paramters: 10842\n",
      "Epoch 1 | Train Accuracy: 0.62604 | Valid Accuracy: 0.86425 | Test Accuracy: 0.28165\n",
      "Epoch 2 | Train Accuracy: 0.88621 | Valid Accuracy: 0.92207 | Test Accuracy: 0.30314\n",
      "Epoch 3 | Train Accuracy: 0.91932 | Valid Accuracy: 0.93999 | Test Accuracy: 0.31559\n",
      "Epoch 4 | Train Accuracy: 0.93354 | Valid Accuracy: 0.94984 | Test Accuracy: 0.32604\n",
      "Epoch 5 | Train Accuracy: 0.94100 | Valid Accuracy: 0.95611 | Test Accuracy: 0.34047\n"
     ]
    }
   ],
   "source": [
    "class CNN(torch.nn.Module):\n",
    "    def __init__(self, in_channels, out_channels, kernel_size, hidden_dim):\n",
    "        super().__init__()\n",
    "\n",
    "        self.model = nn.Sequential(\n",
    "            nn.Conv2d(in_channels, hidden_dim, kernel_size, padding=(kernel_size-1)//2),\n",
    "            nn.ReLU(),\n",
    "            nn.Conv2d(hidden_dim, hidden_dim, kernel_size, padding=(kernel_size-1)//2),\n",
    "            nn.ReLU(),\n",
    "            nn.Conv2d(hidden_dim, out_channels, kernel_size, padding=(kernel_size-1)//2),\n",
    "        )\n",
    "\n",
    "    def forward(self, x):\n",
    "        out = self.model(x)\n",
    "        # Apply average pooling over spatial dimensions.\n",
    "        return out.mean((2,3))\n",
    "    \n",
    "CNN = CNN(in_channels = 1, \n",
    "          out_channels = 10, \n",
    "          kernel_size = 5,\n",
    "          hidden_dim = 16).to(device)\n",
    "train_classifer(CNN, train_loader, valid_loader, test_loader, num_epoch = 5)"
   ]
  },
  {
   "cell_type": "markdown",
   "metadata": {},
   "source": [
    "### Next, we train the GCNN!"
   ]
  },
  {
   "cell_type": "code",
   "execution_count": 17,
   "metadata": {
    "tags": []
   },
   "outputs": [
    {
     "name": "stdout",
     "output_type": "stream",
     "text": [
      "number of paramters: 14600\n",
      "Epoch 1 | Train Accuracy: 0.26065 | Valid Accuracy: 0.51055 | Test Accuracy: 0.35460\n",
      "Epoch 2 | Train Accuracy: 0.57225 | Valid Accuracy: 0.63167 | Test Accuracy: 0.47193\n",
      "Epoch 3 | Train Accuracy: 0.66466 | Valid Accuracy: 0.73806 | Test Accuracy: 0.55195\n",
      "Epoch 4 | Train Accuracy: 0.70542 | Valid Accuracy: 0.70233 | Test Accuracy: 0.55693\n",
      "Epoch 5 | Train Accuracy: 0.72456 | Valid Accuracy: 0.76294 | Test Accuracy: 0.51612\n"
     ]
    }
   ],
   "source": [
    "GCNN = GroupEquivariantCNN(in_channels = 1,\n",
    "                           out_channels = 10,\n",
    "                           kernel_size = 5,\n",
    "                           hidden_dim = 8,\n",
    "                           group_order = 4,\n",
    "                           num_gconvs = 3,\n",
    "                           classifer = True).to(device)\n",
    "train_classifer(GCNN, train_loader, valid_loader, test_loader, learning_rate = 0.01, num_epoch = 5)"
   ]
  },
  {
   "cell_type": "markdown",
   "metadata": {},
   "source": [
    "### Implementation with the exercise codes"
   ]
  },
  {
   "cell_type": "code",
   "execution_count": 19,
   "metadata": {
    "tags": []
   },
   "outputs": [],
   "source": [
    "class Image_GConv_Layer(nn.Module):\n",
    "    def __init__(self,\n",
    "                 in_channels,\n",
    "                 out_channels,\n",
    "                 kernel_size,\n",
    "                 group_order,\n",
    "                 activation = True,\n",
    "                 lift_conv = False\n",
    "                 ):\n",
    "        super(Image_GConv_Layer, self).__init__()\n",
    "        \n",
    "        self.lift_conv = lift_conv\n",
    "        self.kernel_size = kernel_size\n",
    "        self.activation = activation\n",
    "        self.group_order = group_order\n",
    "        self.rep_2D = np.array([[[np.cos(theta), -np.sin(theta)],\n",
    "                                 [np.sin(theta), np.cos(theta)]] \n",
    "                                for theta in [np.pi*2/self.group_order*i\n",
    "                                              for i in range(group_order)]])\n",
    "\n",
    "        # Compute the multiplication tables given group elements\n",
    "        self.mul_table = group_conv.make_multiplication_table(self.rep_2D)\n",
    "        \n",
    "        # Compute regular representations of all group elements\n",
    "        self.rep_reg = torch.from_numpy(group_conv.regular_representation(self.mul_table)).float()\n",
    "        \n",
    "        # Find inverse of each element.\n",
    "        self.inverses_indices = group_conv.inverses(self.mul_table)\n",
    "        \n",
    "   \n",
    "        self.kernel = torch.nn.Parameter(torch.zeros(out_channels,\n",
    "                                                     in_channels,\n",
    "                                                     group_order, \n",
    "                                                     kernel_size,\n",
    "                                                     kernel_size))\n",
    "\n",
    "        torch.nn.init.kaiming_uniform_(self.kernel.data, a=math.sqrt(5))\n",
    "\n",
    "    def image2D_group_convolution_filter_bank(self, rep_2D, filter):\n",
    "        \"\"\"Creates rotated filter bank for 2D image convolution\n",
    "        Input:\n",
    "            rep_2D: torch.Tensor of shape [|G|, 2, 2] of the group representation as 2D rotations and mirrors\n",
    "            filter: torch.Tensor of shape [channel_out, channel_in, rep_reg_filter, kernel_height, kernel_width]\n",
    "        \"\"\"\n",
    "        (j, _, _) = rep_2D.shape\n",
    "        (d, c, i, kh, kw) = filter.shape\n",
    "        affine_mat = torch.zeros(j, 2, 3)\n",
    "        affine_mat[:, :2, :2] = rep_2D\n",
    "        grid = F.affine_grid(affine_mat, [j, ((d * c) * i), kh, kw], align_corners=False).float().to(filter.device)\n",
    "        filter_bank = F.grid_sample(filter.reshape(1, ((d * c) * i), kh, kw).repeat(j, 1, 1, 1), grid, align_corners=False)\n",
    "        return filter_bank.reshape(j, d, c, i, kh, kw)\n",
    "\n",
    "\n",
    "    def image2D_group_convolution(self, rep_2D, rep_reg, inverses, input, filter):\n",
    "        \"\"\"Performs group convolution of inputs and filters over the regular representation\n",
    "        Input:\n",
    "            rep_2D: torch.Tensor of shape [|G|, 2, 2] of the group representation as 2D rotations and mirrors\n",
    "            rep_reg: torch.Tensor of shape [|G|, |G|, |G|] of the left regular representation\n",
    "            inverse: torch.LongTensor of shape [|G|] with the indices of the inverses of the group elements\n",
    "            input: torch.Tensor of shape [batch, channel_in, rep_reg_in, height, width]\n",
    "            filter: torch.Tensor of shape [channel_out, channel_in, rep_reg_filter, kernel_height, kernel_width]\n",
    "        Output:\n",
    "            output: torch.Tensor of shape [batch, channel_out, rep_reg_out]\n",
    "        \"\"\"\n",
    "        (k, i, j) = rep_2D.shape\n",
    "        (z, c, i, h, w) = input.shape\n",
    "        (d, c, j, kh, kw) = filter.shape\n",
    "        filter_bank = self.image2D_group_convolution_filter_bank(torch.from_numpy(rep_2D).float(), filter)\n",
    "        filter_bank_contract = torch.einsum('kij,kdcjhw->dkcihw', rep_reg.to(filter.device), filter_bank[inverses])\n",
    "        conv = F.conv2d(input.reshape(z, (c * i), h, w), \n",
    "                        filter_bank_contract.reshape((d * k), (c * i), kh, kw), \n",
    "                        padding=(self.kernel_size-1)//2)\n",
    "        return conv.reshape(z, d, k, h, w)\n",
    "    \n",
    "    def forward(self, x):\n",
    "        if self.lift_conv:\n",
    "            x = x.unsqueeze(2).repeat(1, 1, self.group_order, 1, 1)\n",
    "        out = self.image2D_group_convolution(self.rep_2D, self.rep_reg, self.inverses_indices, x, self.kernel)\n",
    "        if self.activation:\n",
    "            return F.leaky_relu(out)\n",
    "        else:\n",
    "            return out\n",
    "        \n",
    "class Image_GConvNet(torch.nn.Module):\n",
    "    def __init__(self,\n",
    "                 in_channels,\n",
    "                 out_channels,\n",
    "                 kernel_size,\n",
    "                 hidden_dim,\n",
    "                 group_order,\n",
    "                 num_gconvs #number of group convolution layers.\n",
    "                 ):\n",
    "        super().__init__()\n",
    "\n",
    "        self.gconvs = []\n",
    "        # First Layer\n",
    "        self.gconvs.append(Image_GConv_Layer(in_channels, hidden_dim, kernel_size, group_order, lift_conv = True, activation = True))\n",
    "\n",
    "        # Middle Layers\n",
    "        \n",
    "        for i in range(num_gconvs-2):\n",
    "            self.gconvs.append(Image_GConv_Layer(hidden_dim, hidden_dim, kernel_size, group_order, lift_conv = False, activation = True))\n",
    "            \n",
    "        # Final Layer\n",
    "        self.gconvs.append(Image_GConv_Layer(hidden_dim, out_channels, kernel_size, group_order, lift_conv = False, activation = False))\n",
    "        self.gconvs = nn.Sequential(*self.gconvs)\n",
    "        \n",
    "    def forward(self, x):\n",
    "\n",
    "        out = self.gconvs(x)\n",
    "        \n",
    "        # functions on (g,x,y) -> functions on (x,y)\n",
    "        out = torch.mean(out, dim = 2)\n",
    "\n",
    "        # If we want to have a invariant classifer, we can average over the spatial dimensions.\n",
    "        out = torch.mean(out, dim = (2,3))\n",
    "        return out"
   ]
  },
  {
   "cell_type": "code",
   "execution_count": 20,
   "metadata": {
    "tags": []
   },
   "outputs": [
    {
     "name": "stdout",
     "output_type": "stream",
     "text": [
      "number of paramters: 15200\n",
      "Epoch 1 | Train Accuracy: 0.17022 | Valid Accuracy: 0.19646 | Test Accuracy: 0.20332\n",
      "Epoch 2 | Train Accuracy: 0.22618 | Valid Accuracy: 0.34942 | Test Accuracy: 0.31628\n",
      "Epoch 3 | Train Accuracy: 0.35688 | Valid Accuracy: 0.58260 | Test Accuracy: 0.47383\n",
      "Epoch 4 | Train Accuracy: 0.58764 | Valid Accuracy: 0.75279 | Test Accuracy: 0.53643\n",
      "Epoch 5 | Train Accuracy: 0.71821 | Valid Accuracy: 0.83818 | Test Accuracy: 0.60689\n"
     ]
    }
   ],
   "source": [
    "GConvNet = Image_GConvNet(in_channels = 1,\n",
    "                          out_channels = 10,\n",
    "                          kernel_size = 5,\n",
    "                          hidden_dim = 8,\n",
    "                          group_order = 4,\n",
    "                          num_gconvs = 3).to(device)\n",
    "train_classifer(GConvNet, train_loader, valid_loader, test_loader, learning_rate = 0.01, num_epoch = 5)"
   ]
  },
  {
   "cell_type": "markdown",
   "metadata": {
    "id": "YQBueEWbDLlg"
   },
   "source": [
    "# 2.  Relaxed Group Convolution Networks"
   ]
  },
  {
   "cell_type": "markdown",
   "metadata": {
    "id": "iUrJKGvtJUfU"
   },
   "source": [
    "## 2.1 Situations where perfectly equivariant models may not work"
   ]
  },
  {
   "cell_type": "markdown",
   "metadata": {
    "id": "lmDJuWxv3H7H"
   },
   "source": [
    "### 2.1.1 If the image of 6 is perfectly rotated version of 9, Can GCNN distinguish them?"
   ]
  },
  {
   "cell_type": "code",
   "execution_count": 22,
   "metadata": {
    "id": "WxRSGrUBJT7L",
    "tags": []
   },
   "outputs": [
    {
     "data": {
      "text/plain": [
       "(-0.5, 15.5, -0.5, 15.5)"
      ]
     },
     "execution_count": 22,
     "metadata": {},
     "output_type": "execute_result"
    },
    {
     "data": {
      "image/png": "[encoded data removed]",
      "text/plain": [
       "<Figure size 640x480 with 2 Axes>"
      ]
     },
     "metadata": {},
     "output_type": "display_data"
    }
   ],
   "source": [
    "x_6, x_9 = np.zeros((16, 16)), np.zeros((16, 16))\n",
    "points_6 = [(5, 5),(5, 6),(5, 7),(5, 8),(5, 9),(5, 10),(6, 5),(6, 10),(7, 5),(7, 10),(8, 5),(8, 6),\n",
    "            (8, 7),(8, 8),(8, 9),(8, 10),(9, 5),(10, 5),(11, 5),(11, 6),(11, 7),(11, 8),(11, 9),(11, 10)]\n",
    "points_9 = [(4, 5),(4, 6),(4, 7),(4, 8),(4, 9),(4, 10),(5, 10),(6, 10),(7, 5),(7, 6),(7, 7),(7, 8),(7, 9),\n",
    "            (7, 10),(8, 5),(8, 10),(9, 5),(9, 10),(10, 5),(10, 6),(10, 7), (10, 8),(10, 9),(10, 10)]\n",
    "for x,y in points_6:\n",
    "    x_6[x,y] = 1.0\n",
    "for x,y in points_9:\n",
    "    x_9[x,y] = 1.0\n",
    "f, axarr = plt.subplots(1,2) \n",
    "axarr[0].imshow(x_9, origin=\"lower\")\n",
    "axarr[0].axis(\"off\")\n",
    "axarr[1].imshow(x_6, origin=\"lower\")\n",
    "axarr[1].axis(\"off\")"
   ]
  },
  {
   "cell_type": "code",
   "execution_count": 23,
   "metadata": {
    "tags": []
   },
   "outputs": [],
   "source": [
    "def train_model(model, inp, tgt, loss_fun, lr = 1e-3, n_epochs = 200):\n",
    "    optimizer = torch.optim.Adam(model.parameters(), lr)\n",
    "    best_loss = 1e6\n",
    "    for epoch in range(n_epochs):\n",
    "        output = model(inp)\n",
    "        loss = loss_fun(output.reshape(tgt.shape), tgt)\n",
    "        optimizer.zero_grad()\n",
    "        loss.backward()\n",
    "        optimizer.step()\n",
    "         # print statistics\n",
    "        if epoch % max((n_epochs//10), 50) == 0:\n",
    "            print(\"Epoch: {} | Loss: {:0.5f} \".format(epoch,  loss.item()))\n",
    "    if output.device.type == 'cpu':\n",
    "        return output.data.numpy()\n",
    "    else:\n",
    "        return output.cpu().data.numpy()"
   ]
  },
  {
   "cell_type": "markdown",
   "metadata": {
    "id": "KFIBKyVxUJ09"
   },
   "source": [
    "**You'll see the loss doesn't converge because the C4-GCNN can't distinguish these two digits.**"
   ]
  },
  {
   "cell_type": "code",
   "execution_count": 25,
   "metadata": {
    "id": "XD0WZaiSNiL1",
    "tags": []
   },
   "outputs": [
    {
     "name": "stdout",
     "output_type": "stream",
     "text": [
      "Epoch: 0 | Loss: 0.69318 \n",
      "Epoch: 50 | Loss: 0.69315 \n",
      "Epoch: 100 | Loss: 0.69315 \n",
      "Epoch: 150 | Loss: 0.69315 \n",
      "Epoch: 200 | Loss: 0.69315 \n",
      "Epoch: 250 | Loss: 0.69315 \n",
      "Epoch: 300 | Loss: 0.69315 \n",
      "Epoch: 350 | Loss: 0.69315 \n",
      "Epoch: 400 | Loss: 0.69315 \n",
      "Epoch: 450 | Loss: 0.69315 \n"
     ]
    }
   ],
   "source": [
    "GCNN = GroupEquivariantCNN(in_channels = 1,\n",
    "                           out_channels = 1,\n",
    "                           kernel_size = 3,\n",
    "                           hidden_dim = 4,\n",
    "                           group_order = 4,\n",
    "                           num_gconvs = 1, \n",
    "                           classifer = True, \n",
    "                           sigmoid = True)\n",
    "# input images 6 and 9\n",
    "inps = torch.stack([torch.from_numpy(x_6), torch.from_numpy(x_9)]).unsqueeze(1).float()\n",
    "# labels\n",
    "tgts = torch.FloatTensor([0,1])\n",
    "out = train_model(GCNN, inps, tgts, nn.BCELoss(), n_epochs = 500)"
   ]
  },
  {
   "cell_type": "markdown",
   "metadata": {},
   "source": [
    "### 2.1.2 When the outputs have lower symmetry than input.\n",
    "\n",
    "*Smidt et al. [Finding Symmetry Breaking Order Parameters with Euclidean Neural Networks](https://arxiv.org/abs/2007.02005)*"
   ]
  },
  {
   "cell_type": "code",
   "execution_count": 26,
   "metadata": {
    "tags": []
   },
   "outputs": [
    {
     "data": {
      "image/png": "[encoded data removed]",
      "text/plain": [
       "<Figure size 640x480 with 2 Axes>"
      ]
     },
     "metadata": {},
     "output_type": "display_data"
    }
   ],
   "source": [
    "# D4\n",
    "square_image = torch.zeros((9,9))\n",
    "square_image[2,2] = 1.0\n",
    "square_image[2,6] = 1.0\n",
    "square_image[6,2] = 1.0\n",
    "square_image[6,6] = 1.0\n",
    "square_image = square_image[None, None]\n",
    "\n",
    "# D2\n",
    "rect_image = torch.zeros((9,9))\n",
    "rect_image[1,3] = 1.0\n",
    "rect_image[1,5] = 1.0\n",
    "rect_image[7,3] = 1.0\n",
    "rect_image[7,5] = 1.0\n",
    "rect_image = rect_image[None, None]\n",
    "\n",
    "# Random\n",
    "rand_image = torch.zeros((9,9))\n",
    "rand_image[1,3] = 1.0\n",
    "rand_image[1,7] = 1.0\n",
    "rand_image[7,3] = 1.0\n",
    "rand_image[7,5] = 1.0\n",
    "rand_image = rand_image[None, None]\n",
    "\n",
    "f, axarr = plt.subplots(1,2) \n",
    "axarr[0].imshow(square_image[0,0], origin=\"lower\")\n",
    "axarr[0].axis(\"off\")\n",
    "axarr[1].imshow(rect_image[0,0], origin=\"lower\")\n",
    "axarr[1].axis(\"off\")\n",
    "plt.show()"
   ]
  },
  {
   "cell_type": "code",
   "execution_count": 29,
   "metadata": {
    "tags": []
   },
   "outputs": [
    {
     "name": "stdout",
     "output_type": "stream",
     "text": [
      "Epoch: 0 | Loss: 0.05063 \n",
      "Epoch: 50 | Loss: 0.03455 \n",
      "Epoch: 100 | Loss: 0.02485 \n",
      "Epoch: 150 | Loss: 0.02469 \n",
      "Epoch: 200 | Loss: 0.02469 \n",
      "Epoch: 250 | Loss: 0.02469 \n",
      "Epoch: 300 | Loss: 0.02469 \n",
      "Epoch: 350 | Loss: 0.02469 \n",
      "Epoch: 400 | Loss: 0.02469 \n",
      "Epoch: 450 | Loss: 0.02469 \n"
     ]
    },
    {
     "data": {
      "image/png": "[encoded data removed]",
      "text/plain": [
       "<Figure size 640x480 with 1 Axes>"
      ]
     },
     "metadata": {},
     "output_type": "display_data"
    }
   ],
   "source": [
    "GCNN = GroupEquivariantCNN(in_channels = 1,\n",
    "                           out_channels = 1,\n",
    "                           kernel_size = 3,\n",
    "                           hidden_dim = 16,\n",
    "                           group_order = 4,\n",
    "                           num_gconvs = 3)\n",
    "out = train_model(GCNN, square_image, rect_image, nn.MSELoss(), n_epochs = 500)\n",
    "\n",
    "# visualize the prediction\n",
    "plt.imshow(out[0,0])\n",
    "plt.axis(\"off\")\n",
    "plt.show()"
   ]
  },
  {
   "cell_type": "markdown",
   "metadata": {},
   "source": [
    "### 2.1.3 When the physical systems do not have perfect symmetry or have lower symmetry than expected.\n",
    "\n",
    "* Wang et al. [Discovering Symmetry Breaking in Physical Systems with Relaxed Group Convolution](https://arxiv.org/abs/2310.02299).*"
   ]
  },
  {
   "cell_type": "markdown",
   "metadata": {
    "id": "rvVCi9UmHoas"
   },
   "source": [
    "## 2.2 Approximate Equivariance\n",
    "Let $f \\colon X \\to Y$ be a function and $G$ be a group. Assume that $G$ acts on $X$ and $Y$ via representations $\\rho_{X}$ and $\\rho_{Y}$. We say $f$ is $\\epsilon$-approximately $G$-equivariant if for any $g \\in G$,\n",
    "\n",
    "$$ \\|f(\\rho_{X}(g)(x)) - \\rho_{Y}(g)f(x)\\| \\leq \\epsilon. $$\n",
    "\n",
    "Note that strictly equivariant functions are $\\epsilon = 0$ **approximately equivariant**."
   ]
  },
  {
   "cell_type": "markdown",
   "metadata": {
    "id": "KNwaV2dyIG3U"
   },
   "source": [
    "## 2.3 Relaxed Group Convolution\n",
    "**We relax the weight-sharing constraints in Equivariant Networks by introducing group element dependent parameters.**\n",
    "\n",
    "Group Convolution: $$[f * \\psi] (g) =  \\sum_{h \\in G}f(h)\\psi(g^{-1} h)$$\n",
    "The $G$-equivariance of group convolution results from the shared kernel $\\psi(g^{-1}h)$.  To relax this and consequently relax the $G$-equivariance, we replace the single kernel $\\psi$ with a set of kernels $\\lbrace \\psi_l \\rbrace_{l=1}^L$. We define the new kernel $\\psi$ as a linear combination of $\\psi_l$ with coefficients that vary with $h$ and thus introduce symmetry-breaking dependence on the specific pair $(g,h)$,\n",
    "\n",
    "$$ \\psi(g,h) = \\sum_{l=1}^L w_l(h) \\psi_l(g^{-1}h). $$\n",
    "We define relaxed group convolution by multiplication with $\\psi$ as such\n",
    "\n",
    "$$[f {\\Large\\star} \\psi](g) = \\sum_{h\\in G}f(h)\\psi(g, h)\n",
    "  = \\sum_{h\\in G}\\sum_{l=1}^L f(h) w_l(h) \\psi_l(g^{-1}h) $$"
   ]
  },
  {
   "cell_type": "markdown",
   "metadata": {
    "id": "masbn5CZIc4w"
   },
   "source": [
    "By varying the number of kernels $L$, we can control the degree of relaxation of equivariance. The weights $w_i(h) \\in \\mathbb{R}$ and the kernels $\\psi_l(g^{-1}h) \\in \\mathbb{R}^{c_\\mathrm{out} \\times c_\\mathrm{in}}$ can be learnt from data.  Relaxed group convolution reduces to group convolution and is fully equivariant if and only if $g_1^{-1}h_1 = g_2^{-1} h_2$ implies $\\psi(g_1,h_1) = \\psi(g_2,h_2)$.  In particular, this occurs if $w_l(h_1) =  w_l(h_2)$ for all $h_1,h_2 \\in G$ and for all $l$."
   ]
  },
  {
   "cell_type": "markdown",
   "metadata": {
    "id": "WPS02LvmLAbp"
   },
   "source": [
    "e.g. To relax translation equivariance, instead of using a single filter, we use a linear combination of multiple filters where the coefficients can be varying across the input location."
   ]
  },
  {
   "cell_type": "markdown",
   "metadata": {
    "id": "wHHYkI1tTX3B"
   },
   "source": [
    "![picture](https://drive.google.com/uc?export=view&id=1oNcmOFXuedlOkX-rQ8Pq4_fssEw4TOCm)"
   ]
  },
  {
   "cell_type": "markdown",
   "metadata": {
    "id": "oC2ZtqGCRzQ-"
   },
   "source": [
    "## 2.4 Implementing Relaxed Rotaion Equivariant Layers"
   ]
  },
  {
   "cell_type": "code",
   "execution_count": 30,
   "metadata": {
    "tags": []
   },
   "outputs": [],
   "source": [
    "##### 2D Relaxed Rotation Lifting Convolution Layer #####\n",
    "class RelaxedRotLiftConv2d(torch.nn.Module):\n",
    "    \"\"\"Relaxed lifting convolution Layer for 2D finite rotation group\"\"\"\n",
    "    def __init__(self,\n",
    "                 in_channels,\n",
    "                 out_channels,\n",
    "                 kernel_size,\n",
    "                 group_order, # the order of 2d finite rotation group\n",
    "                 num_filter_banks,\n",
    "                 activation = True # whether to apply relu in the end\n",
    "                 ):\n",
    "        super(RelaxedRotLiftConv2d, self).__init__()\n",
    "\n",
    "        self.num_filter_banks = num_filter_banks\n",
    "        self.in_channels = in_channels\n",
    "        self.out_channels = out_channels\n",
    "        self.kernel_size = kernel_size\n",
    "        self.group_order = group_order\n",
    "        self.activation = activation\n",
    "  \n",
    "        # The relaxed weights are initialized as equal\n",
    "        # they do not need to be equal across different filter bank\n",
    "        self.relaxed_weights = torch.nn.Parameter(torch.ones(num_filter_banks, group_order).float())\n",
    "\n",
    "        # Initialize an unconstrained kernel.\n",
    "        self.kernel = torch.nn.Parameter(torch.zeros(self.num_filter_banks, # Additional dimension\n",
    "                                                     self.out_channels,\n",
    "                                                     self.in_channels,\n",
    "                                                     self.kernel_size,\n",
    "                                                     self.kernel_size))\n",
    "        torch.nn.init.kaiming_uniform_(self.kernel.data, a=math.sqrt(5))\n",
    "        \n",
    "    def generate_filter_bank(self):\n",
    "        \"\"\" Obtain a stack of rotated filters\"\"\"\n",
    "        weights = self.kernel.reshape(self.num_filter_banks*self.out_channels,\n",
    "                                      self.in_channels,\n",
    "                                      self.kernel_size,\n",
    "                                      self.kernel_size)\n",
    "        filter_bank = torch.stack([rot_img(weights, -np.pi*2/self.group_order*i)\n",
    "                                   for i in range(self.group_order)])\n",
    "        filter_bank = filter_bank.transpose(0,1).reshape(self.num_filter_banks, # Additional dimension\n",
    "                                                         self.out_channels,\n",
    "                                                         self.group_order,\n",
    "                                                         self.in_channels,\n",
    "                                                         self.kernel_size,\n",
    "                                                         self.kernel_size)\n",
    "        return filter_bank\n",
    "\n",
    "\n",
    "    def forward(self, x):\n",
    "        # input shape: [bz, #in, h, w]\n",
    "        # output shape: [bz, #out, group order, h, w]\n",
    "\n",
    "        # generate filter bank given input group order\n",
    "        filter_bank = self.generate_filter_bank()\n",
    "\n",
    "        # for each rotation, we have a linear combination of multiple filters with different coefficients.\n",
    "        relaxed_conv_weights = torch.einsum(\"na, noa... -> oa...\", self.relaxed_weights, filter_bank)\n",
    "\n",
    "        # concatenate the first two dims before convolution.\n",
    "        # ==============================\n",
    "        x = F.conv2d(\n",
    "            input=x,\n",
    "            weight=relaxed_conv_weights.reshape(\n",
    "                self.out_channels * self.group_order,\n",
    "                self.in_channels,\n",
    "                self.kernel_size,\n",
    "                self.kernel_size\n",
    "            ),\n",
    "            padding = (self.kernel_size-1)//2\n",
    "        )\n",
    "        # ==============================\n",
    "\n",
    "        # reshape output signal to shape [bz, #out, group order, h, w].\n",
    "        # ==============================\n",
    "        x = x.view(\n",
    "            x.shape[0],\n",
    "            self.out_channels,\n",
    "            self.group_order,\n",
    "            x.shape[-1],\n",
    "            x.shape[-2]\n",
    "        )\n",
    "        # ==============================\n",
    "\n",
    "        if self.activation:\n",
    "            return F.leaky_relu(x)\n",
    "        return x"
   ]
  },
  {
   "cell_type": "code",
   "execution_count": 31,
   "metadata": {
    "tags": []
   },
   "outputs": [],
   "source": [
    "##### 2D Relaxed Rotation Group Convolution Layer #####\n",
    "class RelaxedRotGroupConv2d(torch.nn.Module):\n",
    "    \"\"\"Relaxed group convolution Layer for 2D finite rotation group\"\"\"\n",
    "    def __init__(self,\n",
    "                 in_channels,\n",
    "                 out_channels,\n",
    "                 kernel_size,\n",
    "                 group_order, # the order of 2d finite rotation group\n",
    "                 num_filter_banks,\n",
    "                 activation = True # whether to apply relu in the end\n",
    "                ):\n",
    "\n",
    "        super(RelaxedRotGroupConv2d, self).__init__()\n",
    "\n",
    "        self.num_filter_banks = num_filter_banks\n",
    "        self.in_channels = in_channels\n",
    "        self.out_channels = out_channels\n",
    "        self.kernel_size = kernel_size\n",
    "        self.group_order = group_order\n",
    "        self.activation = activation\n",
    "\n",
    "\n",
    "        # Initialize weights\n",
    "        # If relaxed_weights are equal values, then the model is still equivariant\n",
    "        # Relaxed weights do not need to be equal across different filter bank\n",
    "        self.relaxed_weights = torch.nn.Parameter(torch.ones(group_order, num_filter_banks).float())\n",
    "        self.kernel = torch.nn.Parameter(torch.randn(self.num_filter_banks, # additional dimension\n",
    "                                                     self.out_channels,\n",
    "                                                     self.in_channels,\n",
    "                                                     self.group_order,\n",
    "                                                     self.kernel_size,\n",
    "                                                     self.kernel_size))\n",
    "\n",
    "        torch.nn.init.kaiming_uniform_(self.kernel.data, a=math.sqrt(5))\n",
    "\n",
    "        \n",
    "    def generate_filter_bank(self):\n",
    "        \"\"\" Obtain a stack of rotated and cyclic shifted filters\"\"\"\n",
    "        filter_bank = []\n",
    "        weights = self.kernel.reshape(self.num_filter_banks*self.out_channels*self.in_channels,\n",
    "                                      self.group_order,\n",
    "                                      self.kernel_size,\n",
    "                                      self.kernel_size)\n",
    "\n",
    "        for i in range(self.group_order):\n",
    "            # planar rotation\n",
    "            rotated_filter = rot_img(weights, -np.pi*2/self.group_order*i)\n",
    "\n",
    "            # cyclic shift\n",
    "            shifted_indices = torch.roll(torch.arange(0, self.group_order, 1), shifts = i)\n",
    "            shifted_rotated_filter = rotated_filter[:,shifted_indices]\n",
    "\n",
    "\n",
    "            filter_bank.append(shifted_rotated_filter.reshape(self.num_filter_banks,\n",
    "                                                              self.out_channels,\n",
    "                                                              self.in_channels,\n",
    "                                                              self.group_order,\n",
    "                                                              self.kernel_size,\n",
    "                                                              self.kernel_size))\n",
    "        # stack\n",
    "        filter_bank = torch.stack(filter_bank).permute(1,2,0,3,4,5,6)\n",
    "        return filter_bank\n",
    "    \n",
    "    def forward(self, x):\n",
    "\n",
    "        filter_bank = self.generate_filter_bank()\n",
    "\n",
    "        relaxed_conv_weights = torch.einsum(\"na, aon... -> on...\", self.relaxed_weights, filter_bank)\n",
    "\n",
    "        x = torch.nn.functional.conv2d(\n",
    "            input=x.reshape(\n",
    "                x.shape[0],\n",
    "                x.shape[1] * x.shape[2],\n",
    "                x.shape[3],\n",
    "                x.shape[4]\n",
    "                ),\n",
    "            weight=relaxed_conv_weights.reshape(\n",
    "                self.out_channels * self.group_order,\n",
    "                self.in_channels * self.group_order,\n",
    "                self.kernel_size,\n",
    "                self.kernel_size\n",
    "            ),\n",
    "            padding = (self.kernel_size-1)//2\n",
    "        )\n",
    "\n",
    "        # Reshape signal back [bz, #out * g_order, h, w] -> [bz, out, g_order, h, w]\n",
    "        x = x.view(x.shape[0], self.out_channels, self.group_order, x.shape[-2], x.shape[-1])\n",
    "        # ========================\n",
    "        if self.activation:\n",
    "            return F.leaky_relu(x)\n",
    "        return x\n"
   ]
  },
  {
   "cell_type": "code",
   "execution_count": 32,
   "metadata": {
    "tags": []
   },
   "outputs": [],
   "source": [
    "class RelaxedRotCNN2d(torch.nn.Module):\n",
    "    \"\"\"A small relaxed rotation 2d CNN model\"\"\"\n",
    "    def __init__(self, \n",
    "                 in_channels, \n",
    "                 out_channels, \n",
    "                 kernel_size, \n",
    "                 hidden_dim, \n",
    "                 group_order, # the order of 2d finite rotation group\n",
    "                 num_gconvs, # number of group conv layers\n",
    "                 num_filter_banks, \n",
    "                 classifier = False,\n",
    "                 sigmoid = False,\n",
    "                ):\n",
    "        super(RelaxedRotCNN2d, self).__init__()\n",
    "        \n",
    "        self.gconvs = []\n",
    "        self.classifier = classifier\n",
    "        self.sigmoid = sigmoid\n",
    "        \n",
    "        self.gconvs = [RelaxedRotLiftConv2d(in_channels, hidden_dim, kernel_size, group_order, num_filter_banks, True)]\n",
    "\n",
    "        for i in range(num_gconvs-2):\n",
    "            self.gconvs.append(RelaxedRotGroupConv2d(hidden_dim, hidden_dim, kernel_size, group_order, num_filter_banks, True))\n",
    "\n",
    "        self.gconvs.append(RelaxedRotGroupConv2d(hidden_dim, out_channels, kernel_size, group_order, num_filter_banks, False))\n",
    "\n",
    "        self.gconvs = torch.nn.Sequential(*self.gconvs)\n",
    "\n",
    "    def forward(self, x): \n",
    "        # average over h axis or not         \n",
    "        out = self.gconvs(x).mean(2)\n",
    "        \n",
    "        if self.classifier:\n",
    "            out = out.mean((2,3))\n",
    "        if self.sigmoid:\n",
    "            out = out.sigmoid()\n",
    "        return out\n"
   ]
  },
  {
   "cell_type": "code",
   "execution_count": 33,
   "metadata": {
    "tags": []
   },
   "outputs": [
    {
     "name": "stdout",
     "output_type": "stream",
     "text": [
      "Equivariance Error with Rotation 0 Degrees: 0.00000\n",
      "Equivariance Error with Rotation 90 Degrees: 0.00000\n",
      "Equivariance Error with Rotation 180 Degrees: 0.00000\n",
      "Equivariance Error with Rotation 270 Degrees: 0.00000\n"
     ]
    }
   ],
   "source": [
    "Relaxed_GConvNet = RelaxedRotCNN2d(in_channels = 1, \n",
    "                                   out_channels = 1, \n",
    "                                   kernel_size = 3, \n",
    "                                   hidden_dim = 8, \n",
    "                                   group_order = 4,\n",
    "                                   num_gconvs = 3, \n",
    "                                   num_filter_banks=1)\n",
    "test_equivariance(Relaxed_GConvNet, 4)"
   ]
  },
  {
   "cell_type": "markdown",
   "metadata": {
    "id": "0a5H_QTdRRt3"
   },
   "source": [
    "#### Let's train a Relaxed GCNN classifier to distinguish image 9 and 6. Does the loss converge?"
   ]
  },
  {
   "cell_type": "code",
   "execution_count": 34,
   "metadata": {
    "tags": []
   },
   "outputs": [
    {
     "name": "stdout",
     "output_type": "stream",
     "text": [
      "Epoch: 0 | Loss: 0.69315 \n",
      "Epoch: 50 | Loss: 0.69229 \n",
      "Epoch: 100 | Loss: 0.64459 \n",
      "Epoch: 150 | Loss: 0.36013 \n",
      "Epoch: 200 | Loss: 0.08413 \n",
      "Epoch: 250 | Loss: 0.02209 \n",
      "Epoch: 300 | Loss: 0.00982 \n",
      "Epoch: 350 | Loss: 0.00564 \n",
      "Epoch: 400 | Loss: 0.00368 \n",
      "Epoch: 450 | Loss: 0.00260 \n"
     ]
    }
   ],
   "source": [
    "Relaxed_GConvNet = RelaxedRotCNN2d(in_channels = 1, \n",
    "                                   out_channels = 1, \n",
    "                                   kernel_size = 3, \n",
    "                                   hidden_dim = 8, \n",
    "                                   group_order = 4,\n",
    "                                   num_gconvs = 3, \n",
    "                                   num_filter_banks=1,\n",
    "                                   classifier = True,\n",
    "                                   sigmoid = True)\n",
    "out = train_model(Relaxed_GConvNet, inps, tgts, nn.BCELoss(), n_epochs = 500)"
   ]
  },
  {
   "cell_type": "markdown",
   "metadata": {},
   "source": [
    "## 2.5 Discovering Symmetry Breaking Factors"
   ]
  },
  {
   "cell_type": "code",
   "execution_count": 35,
   "metadata": {
    "tags": []
   },
   "outputs": [
    {
     "name": "stdout",
     "output_type": "stream",
     "text": [
      "Epoch: 0 | Loss: 0.04936 \n",
      "Epoch: 50 | Loss: 0.00428 \n",
      "Epoch: 100 | Loss: 0.00005 \n",
      "Epoch: 150 | Loss: 0.00001 \n",
      "Epoch: 0 | Loss: 0.04938 \n",
      "Epoch: 50 | Loss: 0.03696 \n",
      "Epoch: 100 | Loss: 0.03429 \n",
      "Epoch: 150 | Loss: 0.01700 \n",
      "Epoch: 0 | Loss: 0.04931 \n",
      "Epoch: 50 | Loss: 0.03713 \n",
      "Epoch: 100 | Loss: 0.03381 \n",
      "Epoch: 150 | Loss: 0.02903 \n"
     ]
    }
   ],
   "source": [
    "# Square to Square\n",
    "Relaxed_GConvNet_SS = RelaxedRotCNN2d(in_channels = 1, out_channels = 1, kernel_size = 3, hidden_dim = 4, group_order = 4, num_gconvs = 3, num_filter_banks=1).to(device)\n",
    "out_square = train_model(model = Relaxed_GConvNet_SS, inp = square_image.to(device), tgt = square_image.to(device), loss_fun = nn.MSELoss())\n",
    "\n",
    "# Square to Rectangle\n",
    "Relaxed_GConvNet_SR = RelaxedRotCNN2d(in_channels = 1, out_channels = 1, kernel_size = 3, hidden_dim = 8, group_order = 4, num_gconvs = 3, num_filter_banks=1).to(device)\n",
    "out_rectangle = train_model(model = Relaxed_GConvNet_SR, inp = square_image.to(device), tgt = rect_image.to(device), loss_fun = nn.MSELoss())\n",
    "\n",
    "# # Square to Non-symmetric shape\n",
    "Relaxed_GConvNet_SN = RelaxedRotCNN2d(in_channels = 1, out_channels = 1, kernel_size = 3, hidden_dim = 8, group_order = 4, num_gconvs = 3, num_filter_banks=1).to(device)\n",
    "out_random = train_model(model = Relaxed_GConvNet_SN, inp = square_image.to(device), tgt = rand_image.to(device), loss_fun = nn.MSELoss())"
   ]
  },
  {
   "cell_type": "code",
   "execution_count": 36,
   "metadata": {
    "tags": []
   },
   "outputs": [
    {
     "data": {
      "image/png": "[encoded data removed]",
      "text/plain": [
       "<Figure size 1000x500 with 3 Axes>"
      ]
     },
     "metadata": {},
     "output_type": "display_data"
    }
   ],
   "source": [
    "relaxed_weights_ss = torch.stack([Relaxed_GConvNet_SS.gconvs[i].relaxed_weights.data.reshape(-1) for i in range(3)]).T.cpu().data.numpy()\n",
    "relaxed_weights_sr = torch.stack([Relaxed_GConvNet_SR.gconvs[i].relaxed_weights.data.reshape(-1) for i in range(3)]).T.cpu().data.numpy()\n",
    "relaxed_weights_sn = torch.stack([Relaxed_GConvNet_SN.gconvs[i].relaxed_weights.data.reshape(-1) for i in range(3)]).T.cpu().data.numpy()\n",
    "relaxed_weights = [relaxed_weights_ss, relaxed_weights_sr, relaxed_weights_sn]\n",
    "titles = [\"Square\", \"Rectangle\", \"Random\"]\n",
    "fig=plt.figure(figsize=(10, 5))\n",
    "for i in range(1, 4):\n",
    "    fig.add_subplot(1, 3, i)\n",
    "    plt.imshow(relaxed_weights[i-1], cmap = 'Blues')\n",
    "    plt.xticks(np.arange(0.5,3,1), color='w')\n",
    "    plt.yticks(np.arange(0.5,4,1), color='w')\n",
    "    plt.text(-0.9, 0.1, \"$i$\", fontsize=20)\n",
    "    plt.text(-0.9, 1.1, \"$g$\", fontsize=20)\n",
    "    plt.text(-0.9, 2.1, \"$g^2$\", fontsize=20)\n",
    "    plt.text(-0.9, 3.1, \"$g^3$\", fontsize=20)\n",
    "    plt.text(-0.3, -0.6, \"Layer 1\", fontsize=13)\n",
    "    plt.text(0.7, -0.6, \"Layer 2\", fontsize=13)\n",
    "    plt.text(1.7, -0.6, \"Layer 3\", fontsize=13)\n",
    "    plt.grid(color='black', linestyle='-', linewidth=2)\n",
    "    plt.title(titles[i-1], size = 18, pad=25)\n",
    "plt.show()"
   ]
  },
  {
   "cell_type": "markdown",
   "metadata": {},
   "source": [
    "## 2.6 Projecting the relaxed weights onto the irreps of the group"
   ]
  },
  {
   "cell_type": "code",
   "execution_count": 37,
   "metadata": {
    "tags": []
   },
   "outputs": [],
   "source": [
    "# Character Table\n",
    "c4_ft = np.array([[1, 1, 1, 1],\n",
    "                  [1, -1, 1, -1],\n",
    "                  [1, 0+1j, -1, 0-1j],\n",
    "                  [1, 0-1j, -1, 0+1j]])\n",
    "\n",
    "fourier_components_ss = np.round(relaxed_weights_ss[:,0] @ c4_ft.T, decimals = 3)\n",
    "fourier_components_sr = np.round(relaxed_weights_sr[:,0] @ c4_ft.T, decimals = 3)\n",
    "fourier_components_sn = np.round(relaxed_weights_sn[:,0] @ c4_ft.T, decimals = 3)"
   ]
  },
  {
   "cell_type": "markdown",
   "metadata": {},
   "source": [
    "#### Only trivial irrep A is non zero when the output is an square"
   ]
  },
  {
   "cell_type": "code",
   "execution_count": 38,
   "metadata": {
    "tags": []
   },
   "outputs": [
    {
     "data": {
      "text/plain": [
       "array([4.238+0.j, 0.   +0.j, 0.   +0.j, 0.   +0.j])"
      ]
     },
     "execution_count": 38,
     "metadata": {},
     "output_type": "execute_result"
    }
   ],
   "source": [
    "fourier_components_ss"
   ]
  },
  {
   "cell_type": "markdown",
   "metadata": {},
   "source": [
    "#### Both A and B are non zero when the output is a rectangle"
   ]
  },
  {
   "cell_type": "code",
   "execution_count": 39,
   "metadata": {
    "tags": []
   },
   "outputs": [
    {
     "data": {
      "text/plain": [
       "array([4.192+0.j, 0.785+0.j, 0.   +0.j, 0.   +0.j])"
      ]
     },
     "execution_count": 39,
     "metadata": {},
     "output_type": "execute_result"
    }
   ],
   "source": [
    "fourier_components_sr"
   ]
  },
  {
   "cell_type": "code",
   "execution_count": null,
   "metadata": {},
   "outputs": [],
   "source": []
  }
 ],
 "metadata": {
  "colab": {
   "provenance": []
  },
  "kernelspec": {
   "display_name": "e3nn",
   "language": "python",
   "name": "e3nn"
  },
  "language_info": {
   "codemirror_mode": {
    "name": "ipython",
    "version": 3
   },
   "file_extension": ".py",
   "mimetype": "text/x-python",
   "name": "python",
   "nbconvert_exporter": "python",
   "pygments_lexer": "ipython3",
   "version": "3.9.17"
  }
 },
 "nbformat": 4,
 "nbformat_minor": 4
}
